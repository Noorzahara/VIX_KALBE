{
  "cells": [
    {
      "cell_type": "code",
      "execution_count": 61,
      "metadata": {
        "id": "PUcrXeximWws"
      },
      "outputs": [],
      "source": [
        "import numpy as np\n",
        "import pandas as pd\n",
        "\n",
        "\n",
        "# for operation 2\n",
        "dfc = pd.read_csv('/content/Case Study - Customer.csv',sep=';')\n",
        "dfp = pd.read_csv('/content/Case Study - Product.csv',sep=';')\n",
        "dfs = pd.read_csv('/content/Case Study - Store.csv',sep=';')\n",
        "dft = pd.read_csv('/content/Case Study - Transaction.csv',sep=';')"
      ]
    },
    {
      "cell_type": "markdown",
      "metadata": {
        "id": "7P6wTff7nlJs"
      },
      "source": []
    },
    {
      "cell_type": "code",
      "execution_count": 62,
      "metadata": {
        "colab": {
          "base_uri": "https://localhost:8080/",
          "height": 300
        },
        "id": "IC3TxHFknmKU",
        "outputId": "33966b5b-e973-4e06-803c-3b5f9cb16380"
      },
      "outputs": [
        {
          "output_type": "execute_result",
          "data": {
            "text/plain": [
              "       CustomerID         Age      Gender\n",
              "count  447.000000  447.000000  447.000000\n",
              "mean   224.000000   39.782998    0.458613\n",
              "std    129.182042   12.848719    0.498842\n",
              "min      1.000000    0.000000    0.000000\n",
              "25%    112.500000   30.000000    0.000000\n",
              "50%    224.000000   39.000000    0.000000\n",
              "75%    335.500000   50.500000    1.000000\n",
              "max    447.000000   72.000000    1.000000"
            ],
            "text/html": [
              "\n",
              "  <div id=\"df-a47eb3a1-c9ac-44d1-95ca-69a3e27dd984\" class=\"colab-df-container\">\n",
              "    <div>\n",
              "<style scoped>\n",
              "    .dataframe tbody tr th:only-of-type {\n",
              "        vertical-align: middle;\n",
              "    }\n",
              "\n",
              "    .dataframe tbody tr th {\n",
              "        vertical-align: top;\n",
              "    }\n",
              "\n",
              "    .dataframe thead th {\n",
              "        text-align: right;\n",
              "    }\n",
              "</style>\n",
              "<table border=\"1\" class=\"dataframe\">\n",
              "  <thead>\n",
              "    <tr style=\"text-align: right;\">\n",
              "      <th></th>\n",
              "      <th>CustomerID</th>\n",
              "      <th>Age</th>\n",
              "      <th>Gender</th>\n",
              "    </tr>\n",
              "  </thead>\n",
              "  <tbody>\n",
              "    <tr>\n",
              "      <th>count</th>\n",
              "      <td>447.000000</td>\n",
              "      <td>447.000000</td>\n",
              "      <td>447.000000</td>\n",
              "    </tr>\n",
              "    <tr>\n",
              "      <th>mean</th>\n",
              "      <td>224.000000</td>\n",
              "      <td>39.782998</td>\n",
              "      <td>0.458613</td>\n",
              "    </tr>\n",
              "    <tr>\n",
              "      <th>std</th>\n",
              "      <td>129.182042</td>\n",
              "      <td>12.848719</td>\n",
              "      <td>0.498842</td>\n",
              "    </tr>\n",
              "    <tr>\n",
              "      <th>min</th>\n",
              "      <td>1.000000</td>\n",
              "      <td>0.000000</td>\n",
              "      <td>0.000000</td>\n",
              "    </tr>\n",
              "    <tr>\n",
              "      <th>25%</th>\n",
              "      <td>112.500000</td>\n",
              "      <td>30.000000</td>\n",
              "      <td>0.000000</td>\n",
              "    </tr>\n",
              "    <tr>\n",
              "      <th>50%</th>\n",
              "      <td>224.000000</td>\n",
              "      <td>39.000000</td>\n",
              "      <td>0.000000</td>\n",
              "    </tr>\n",
              "    <tr>\n",
              "      <th>75%</th>\n",
              "      <td>335.500000</td>\n",
              "      <td>50.500000</td>\n",
              "      <td>1.000000</td>\n",
              "    </tr>\n",
              "    <tr>\n",
              "      <th>max</th>\n",
              "      <td>447.000000</td>\n",
              "      <td>72.000000</td>\n",
              "      <td>1.000000</td>\n",
              "    </tr>\n",
              "  </tbody>\n",
              "</table>\n",
              "</div>\n",
              "    <div class=\"colab-df-buttons\">\n",
              "\n",
              "  <div class=\"colab-df-container\">\n",
              "    <button class=\"colab-df-convert\" onclick=\"convertToInteractive('df-a47eb3a1-c9ac-44d1-95ca-69a3e27dd984')\"\n",
              "            title=\"Convert this dataframe to an interactive table.\"\n",
              "            style=\"display:none;\">\n",
              "\n",
              "  <svg xmlns=\"http://www.w3.org/2000/svg\" height=\"24px\" viewBox=\"0 -960 960 960\">\n",
              "    <path d=\"M120-120v-720h720v720H120Zm60-500h600v-160H180v160Zm220 220h160v-160H400v160Zm0 220h160v-160H400v160ZM180-400h160v-160H180v160Zm440 0h160v-160H620v160ZM180-180h160v-160H180v160Zm440 0h160v-160H620v160Z\"/>\n",
              "  </svg>\n",
              "    </button>\n",
              "\n",
              "  <style>\n",
              "    .colab-df-container {\n",
              "      display:flex;\n",
              "      gap: 12px;\n",
              "    }\n",
              "\n",
              "    .colab-df-convert {\n",
              "      background-color: #E8F0FE;\n",
              "      border: none;\n",
              "      border-radius: 50%;\n",
              "      cursor: pointer;\n",
              "      display: none;\n",
              "      fill: #1967D2;\n",
              "      height: 32px;\n",
              "      padding: 0 0 0 0;\n",
              "      width: 32px;\n",
              "    }\n",
              "\n",
              "    .colab-df-convert:hover {\n",
              "      background-color: #E2EBFA;\n",
              "      box-shadow: 0px 1px 2px rgba(60, 64, 67, 0.3), 0px 1px 3px 1px rgba(60, 64, 67, 0.15);\n",
              "      fill: #174EA6;\n",
              "    }\n",
              "\n",
              "    .colab-df-buttons div {\n",
              "      margin-bottom: 4px;\n",
              "    }\n",
              "\n",
              "    [theme=dark] .colab-df-convert {\n",
              "      background-color: #3B4455;\n",
              "      fill: #D2E3FC;\n",
              "    }\n",
              "\n",
              "    [theme=dark] .colab-df-convert:hover {\n",
              "      background-color: #434B5C;\n",
              "      box-shadow: 0px 1px 3px 1px rgba(0, 0, 0, 0.15);\n",
              "      filter: drop-shadow(0px 1px 2px rgba(0, 0, 0, 0.3));\n",
              "      fill: #FFFFFF;\n",
              "    }\n",
              "  </style>\n",
              "\n",
              "    <script>\n",
              "      const buttonEl =\n",
              "        document.querySelector('#df-a47eb3a1-c9ac-44d1-95ca-69a3e27dd984 button.colab-df-convert');\n",
              "      buttonEl.style.display =\n",
              "        google.colab.kernel.accessAllowed ? 'block' : 'none';\n",
              "\n",
              "      async function convertToInteractive(key) {\n",
              "        const element = document.querySelector('#df-a47eb3a1-c9ac-44d1-95ca-69a3e27dd984');\n",
              "        const dataTable =\n",
              "          await google.colab.kernel.invokeFunction('convertToInteractive',\n",
              "                                                    [key], {});\n",
              "        if (!dataTable) return;\n",
              "\n",
              "        const docLinkHtml = 'Like what you see? Visit the ' +\n",
              "          '<a target=\"_blank\" href=https://colab.research.google.com/notebooks/data_table.ipynb>data table notebook</a>'\n",
              "          + ' to learn more about interactive tables.';\n",
              "        element.innerHTML = '';\n",
              "        dataTable['output_type'] = 'display_data';\n",
              "        await google.colab.output.renderOutput(dataTable, element);\n",
              "        const docLink = document.createElement('div');\n",
              "        docLink.innerHTML = docLinkHtml;\n",
              "        element.appendChild(docLink);\n",
              "      }\n",
              "    </script>\n",
              "  </div>\n",
              "\n",
              "\n",
              "<div id=\"df-2abec110-8787-4f1e-9b16-333ea8f70c60\">\n",
              "  <button class=\"colab-df-quickchart\" onclick=\"quickchart('df-2abec110-8787-4f1e-9b16-333ea8f70c60')\"\n",
              "            title=\"Suggest charts.\"\n",
              "            style=\"display:none;\">\n",
              "\n",
              "<svg xmlns=\"http://www.w3.org/2000/svg\" height=\"24px\"viewBox=\"0 0 24 24\"\n",
              "     width=\"24px\">\n",
              "    <g>\n",
              "        <path d=\"M19 3H5c-1.1 0-2 .9-2 2v14c0 1.1.9 2 2 2h14c1.1 0 2-.9 2-2V5c0-1.1-.9-2-2-2zM9 17H7v-7h2v7zm4 0h-2V7h2v10zm4 0h-2v-4h2v4z\"/>\n",
              "    </g>\n",
              "</svg>\n",
              "  </button>\n",
              "\n",
              "<style>\n",
              "  .colab-df-quickchart {\n",
              "      --bg-color: #E8F0FE;\n",
              "      --fill-color: #1967D2;\n",
              "      --hover-bg-color: #E2EBFA;\n",
              "      --hover-fill-color: #174EA6;\n",
              "      --disabled-fill-color: #AAA;\n",
              "      --disabled-bg-color: #DDD;\n",
              "  }\n",
              "\n",
              "  [theme=dark] .colab-df-quickchart {\n",
              "      --bg-color: #3B4455;\n",
              "      --fill-color: #D2E3FC;\n",
              "      --hover-bg-color: #434B5C;\n",
              "      --hover-fill-color: #FFFFFF;\n",
              "      --disabled-bg-color: #3B4455;\n",
              "      --disabled-fill-color: #666;\n",
              "  }\n",
              "\n",
              "  .colab-df-quickchart {\n",
              "    background-color: var(--bg-color);\n",
              "    border: none;\n",
              "    border-radius: 50%;\n",
              "    cursor: pointer;\n",
              "    display: none;\n",
              "    fill: var(--fill-color);\n",
              "    height: 32px;\n",
              "    padding: 0;\n",
              "    width: 32px;\n",
              "  }\n",
              "\n",
              "  .colab-df-quickchart:hover {\n",
              "    background-color: var(--hover-bg-color);\n",
              "    box-shadow: 0 1px 2px rgba(60, 64, 67, 0.3), 0 1px 3px 1px rgba(60, 64, 67, 0.15);\n",
              "    fill: var(--button-hover-fill-color);\n",
              "  }\n",
              "\n",
              "  .colab-df-quickchart-complete:disabled,\n",
              "  .colab-df-quickchart-complete:disabled:hover {\n",
              "    background-color: var(--disabled-bg-color);\n",
              "    fill: var(--disabled-fill-color);\n",
              "    box-shadow: none;\n",
              "  }\n",
              "\n",
              "  .colab-df-spinner {\n",
              "    border: 2px solid var(--fill-color);\n",
              "    border-color: transparent;\n",
              "    border-bottom-color: var(--fill-color);\n",
              "    animation:\n",
              "      spin 1s steps(1) infinite;\n",
              "  }\n",
              "\n",
              "  @keyframes spin {\n",
              "    0% {\n",
              "      border-color: transparent;\n",
              "      border-bottom-color: var(--fill-color);\n",
              "      border-left-color: var(--fill-color);\n",
              "    }\n",
              "    20% {\n",
              "      border-color: transparent;\n",
              "      border-left-color: var(--fill-color);\n",
              "      border-top-color: var(--fill-color);\n",
              "    }\n",
              "    30% {\n",
              "      border-color: transparent;\n",
              "      border-left-color: var(--fill-color);\n",
              "      border-top-color: var(--fill-color);\n",
              "      border-right-color: var(--fill-color);\n",
              "    }\n",
              "    40% {\n",
              "      border-color: transparent;\n",
              "      border-right-color: var(--fill-color);\n",
              "      border-top-color: var(--fill-color);\n",
              "    }\n",
              "    60% {\n",
              "      border-color: transparent;\n",
              "      border-right-color: var(--fill-color);\n",
              "    }\n",
              "    80% {\n",
              "      border-color: transparent;\n",
              "      border-right-color: var(--fill-color);\n",
              "      border-bottom-color: var(--fill-color);\n",
              "    }\n",
              "    90% {\n",
              "      border-color: transparent;\n",
              "      border-bottom-color: var(--fill-color);\n",
              "    }\n",
              "  }\n",
              "</style>\n",
              "\n",
              "  <script>\n",
              "    async function quickchart(key) {\n",
              "      const quickchartButtonEl =\n",
              "        document.querySelector('#' + key + ' button');\n",
              "      quickchartButtonEl.disabled = true;  // To prevent multiple clicks.\n",
              "      quickchartButtonEl.classList.add('colab-df-spinner');\n",
              "      try {\n",
              "        const charts = await google.colab.kernel.invokeFunction(\n",
              "            'suggestCharts', [key], {});\n",
              "      } catch (error) {\n",
              "        console.error('Error during call to suggestCharts:', error);\n",
              "      }\n",
              "      quickchartButtonEl.classList.remove('colab-df-spinner');\n",
              "      quickchartButtonEl.classList.add('colab-df-quickchart-complete');\n",
              "    }\n",
              "    (() => {\n",
              "      let quickchartButtonEl =\n",
              "        document.querySelector('#df-2abec110-8787-4f1e-9b16-333ea8f70c60 button');\n",
              "      quickchartButtonEl.style.display =\n",
              "        google.colab.kernel.accessAllowed ? 'block' : 'none';\n",
              "    })();\n",
              "  </script>\n",
              "</div>\n",
              "    </div>\n",
              "  </div>\n"
            ]
          },
          "metadata": {},
          "execution_count": 62
        }
      ],
      "source": [
        "dfc.describe()"
      ]
    },
    {
      "cell_type": "code",
      "execution_count": 63,
      "metadata": {
        "id": "YG74djAdbpgo",
        "colab": {
          "base_uri": "https://localhost:8080/"
        },
        "outputId": "f47575db-7c9d-4340-9a32-6d652c148745"
      },
      "outputs": [
        {
          "output_type": "stream",
          "name": "stdout",
          "text": [
            "     CustomerID  Age  Gender Marital Status Income\n",
            "0             1   55       1        Married   5,12\n",
            "1             2   60       1        Married   6,23\n",
            "2             3   32       1        Married   9,17\n",
            "3             4   31       1        Married   4,87\n",
            "4             5   58       1        Married   3,57\n",
            "..          ...  ...     ...            ...    ...\n",
            "442         443   33       1            NaN   9,28\n",
            "443         444   53       0        Married  15,31\n",
            "444         445   51       0        Married  14,48\n",
            "445         446   57       0        Married   7,81\n",
            "446         447   54       1        Married  20,37\n",
            "\n",
            "[447 rows x 5 columns]\n"
          ]
        }
      ],
      "source": [
        "print(dfc)\n",
        "\n",
        "\n"
      ]
    },
    {
      "cell_type": "code",
      "source": [
        "print(dfp)\n"
      ],
      "metadata": {
        "colab": {
          "base_uri": "https://localhost:8080/"
        },
        "id": "KUTErhFe_sws",
        "outputId": "fa98f8df-12e6-4eb9-c948-d067731da21d"
      },
      "execution_count": 64,
      "outputs": [
        {
          "output_type": "stream",
          "name": "stdout",
          "text": [
            "  ProductID   Product Name  Price\n",
            "0        P1      Choco Bar   8800\n",
            "1        P2  Ginger Candy    3200\n",
            "2        P3       Crackers   7500\n",
            "3        P4    Potato Chip  12000\n",
            "4        P5       Thai Tea   4200\n",
            "5        P6         Cashew  18000\n",
            "6        P7   Coffee Candy   9400\n",
            "7        P8            Oat  16000\n",
            "8        P9        Yoghurt  10000\n",
            "9       P10   Cheese Stick  15000\n"
          ]
        }
      ]
    },
    {
      "cell_type": "code",
      "source": [
        "\n",
        "print(dfs)\n"
      ],
      "metadata": {
        "colab": {
          "base_uri": "https://localhost:8080/"
        },
        "id": "Q62JQW1g_vGC",
        "outputId": "10c443d6-d951-41a0-a4fa-4fc87d880d17"
      },
      "execution_count": 65,
      "outputs": [
        {
          "output_type": "stream",
          "name": "stdout",
          "text": [
            "    StoreID         StoreName    GroupStore           Type   Latitude  \\\n",
            "0         1     Prima Tendean         Prima   Modern Trade       -6,2   \n",
            "1         2  Prima Kelapa Dua         Prima   Modern Trade  -6,914864   \n",
            "2         3        Prima Kota         Prima   Modern Trade  -7,797068   \n",
            "3         4       Gita Ginara          Gita  General Trade  -6,966667   \n",
            "4         5           Bonafid          Gita  General Trade  -7,250445   \n",
            "5         6            Lingga        Lingga   Modern Trade  -5,135399   \n",
            "6         7       Buana Indah         Buana  General Trade   3,316694   \n",
            "7         8     Sinar Harapan  Harapan Baru  General Trade    5,54829   \n",
            "8         9            Lingga        Lingga   Modern Trade  -3,654703   \n",
            "9        10      Harapan Baru  Harapan Baru  General Trade   3,597031   \n",
            "10       11     Sinar Harapan      Prestasi  General Trade   0,533505   \n",
            "11       12    Prestasi Utama      Prestasi  General Trade  -2,990934   \n",
            "12       13             Buana         Buana  General Trade   -1,26916   \n",
            "13       14          Priangan      Priangan   Modern Trade      -5,45   \n",
            "\n",
            "     Longitude  \n",
            "0   106,816666  \n",
            "1   107,608238  \n",
            "2   110,370529  \n",
            "3   110,416664  \n",
            "4   112,768845  \n",
            "5    119,42379  \n",
            "6   114,590111  \n",
            "7    95,323753  \n",
            "8   128,190643  \n",
            "9    98,678513  \n",
            "10  101,447403  \n",
            "11  104,756554  \n",
            "12  116,825264  \n",
            "13   105,26667  \n"
          ]
        }
      ]
    },
    {
      "cell_type": "code",
      "source": [
        "print(dft)"
      ],
      "metadata": {
        "colab": {
          "base_uri": "https://localhost:8080/"
        },
        "id": "hm6GTzeO_y-K",
        "outputId": "8d2e1268-41f3-42af-fe20-5ced3a2113e3"
      },
      "execution_count": 66,
      "outputs": [
        {
          "output_type": "stream",
          "name": "stdout",
          "text": [
            "     TransactionID  CustomerID        Date ProductID  Price  Qty  TotalAmount  \\\n",
            "0          TR11369         328  01/01/2022        P3   7500    4        30000   \n",
            "1          TR16356         165  01/01/2022        P9  10000    7        70000   \n",
            "2           TR1984         183  01/01/2022        P1   8800    4        35200   \n",
            "3          TR35256         160  01/01/2022        P1   8800    7        61600   \n",
            "4          TR41231         386  01/01/2022        P9  10000    1        10000   \n",
            "...            ...         ...         ...       ...    ...  ...          ...   \n",
            "5015       TR54423         243  31/12/2022       P10  15000    5        75000   \n",
            "5016        TR5604         271  31/12/2022        P2   3200    4        12800   \n",
            "5017       TR81224          52  31/12/2022        P7   9400    6        56400   \n",
            "5018       TR85016          18  31/12/2022        P8  16000    3        48000   \n",
            "5019       TR85684          55  31/12/2022        P8  16000    1        16000   \n",
            "\n",
            "      StoreID  \n",
            "0          12  \n",
            "1           1  \n",
            "2           4  \n",
            "3           4  \n",
            "4           4  \n",
            "...       ...  \n",
            "5015        3  \n",
            "5016        9  \n",
            "5017        9  \n",
            "5018       13  \n",
            "5019        6  \n",
            "\n",
            "[5020 rows x 8 columns]\n"
          ]
        }
      ]
    },
    {
      "cell_type": "markdown",
      "metadata": {
        "id": "vUgcUA8ln-XD"
      },
      "source": []
    },
    {
      "cell_type": "code",
      "execution_count": null,
      "metadata": {
        "colab": {
          "base_uri": "https://localhost:8080/",
          "height": 175
        },
        "id": "X2YHPOOPn_MA",
        "outputId": "0897c163-8179-4cf0-ad5a-8f54b5593b2e"
      },
      "outputs": [
        {
          "data": {
            "text/html": [
              "\n",
              "  <div id=\"df-9e7a1bef-0cbd-4cae-b3a7-a4fd203bdf1d\" class=\"colab-df-container\">\n",
              "    <div>\n",
              "<style scoped>\n",
              "    .dataframe tbody tr th:only-of-type {\n",
              "        vertical-align: middle;\n",
              "    }\n",
              "\n",
              "    .dataframe tbody tr th {\n",
              "        vertical-align: top;\n",
              "    }\n",
              "\n",
              "    .dataframe thead th {\n",
              "        text-align: right;\n",
              "    }\n",
              "</style>\n",
              "<table border=\"1\" class=\"dataframe\">\n",
              "  <thead>\n",
              "    <tr style=\"text-align: right;\">\n",
              "      <th></th>\n",
              "      <th>ProductID;Product Name;Price</th>\n",
              "    </tr>\n",
              "  </thead>\n",
              "  <tbody>\n",
              "    <tr>\n",
              "      <th>count</th>\n",
              "      <td>10</td>\n",
              "    </tr>\n",
              "    <tr>\n",
              "      <th>unique</th>\n",
              "      <td>10</td>\n",
              "    </tr>\n",
              "    <tr>\n",
              "      <th>top</th>\n",
              "      <td>P1;Choco Bar;8800</td>\n",
              "    </tr>\n",
              "    <tr>\n",
              "      <th>freq</th>\n",
              "      <td>1</td>\n",
              "    </tr>\n",
              "  </tbody>\n",
              "</table>\n",
              "</div>\n",
              "    <div class=\"colab-df-buttons\">\n",
              "\n",
              "  <div class=\"colab-df-container\">\n",
              "    <button class=\"colab-df-convert\" onclick=\"convertToInteractive('df-9e7a1bef-0cbd-4cae-b3a7-a4fd203bdf1d')\"\n",
              "            title=\"Convert this dataframe to an interactive table.\"\n",
              "            style=\"display:none;\">\n",
              "\n",
              "  <svg xmlns=\"http://www.w3.org/2000/svg\" height=\"24px\" viewBox=\"0 -960 960 960\">\n",
              "    <path d=\"M120-120v-720h720v720H120Zm60-500h600v-160H180v160Zm220 220h160v-160H400v160Zm0 220h160v-160H400v160ZM180-400h160v-160H180v160Zm440 0h160v-160H620v160ZM180-180h160v-160H180v160Zm440 0h160v-160H620v160Z\"/>\n",
              "  </svg>\n",
              "    </button>\n",
              "\n",
              "  <style>\n",
              "    .colab-df-container {\n",
              "      display:flex;\n",
              "      gap: 12px;\n",
              "    }\n",
              "\n",
              "    .colab-df-convert {\n",
              "      background-color: #E8F0FE;\n",
              "      border: none;\n",
              "      border-radius: 50%;\n",
              "      cursor: pointer;\n",
              "      display: none;\n",
              "      fill: #1967D2;\n",
              "      height: 32px;\n",
              "      padding: 0 0 0 0;\n",
              "      width: 32px;\n",
              "    }\n",
              "\n",
              "    .colab-df-convert:hover {\n",
              "      background-color: #E2EBFA;\n",
              "      box-shadow: 0px 1px 2px rgba(60, 64, 67, 0.3), 0px 1px 3px 1px rgba(60, 64, 67, 0.15);\n",
              "      fill: #174EA6;\n",
              "    }\n",
              "\n",
              "    .colab-df-buttons div {\n",
              "      margin-bottom: 4px;\n",
              "    }\n",
              "\n",
              "    [theme=dark] .colab-df-convert {\n",
              "      background-color: #3B4455;\n",
              "      fill: #D2E3FC;\n",
              "    }\n",
              "\n",
              "    [theme=dark] .colab-df-convert:hover {\n",
              "      background-color: #434B5C;\n",
              "      box-shadow: 0px 1px 3px 1px rgba(0, 0, 0, 0.15);\n",
              "      filter: drop-shadow(0px 1px 2px rgba(0, 0, 0, 0.3));\n",
              "      fill: #FFFFFF;\n",
              "    }\n",
              "  </style>\n",
              "\n",
              "    <script>\n",
              "      const buttonEl =\n",
              "        document.querySelector('#df-9e7a1bef-0cbd-4cae-b3a7-a4fd203bdf1d button.colab-df-convert');\n",
              "      buttonEl.style.display =\n",
              "        google.colab.kernel.accessAllowed ? 'block' : 'none';\n",
              "\n",
              "      async function convertToInteractive(key) {\n",
              "        const element = document.querySelector('#df-9e7a1bef-0cbd-4cae-b3a7-a4fd203bdf1d');\n",
              "        const dataTable =\n",
              "          await google.colab.kernel.invokeFunction('convertToInteractive',\n",
              "                                                    [key], {});\n",
              "        if (!dataTable) return;\n",
              "\n",
              "        const docLinkHtml = 'Like what you see? Visit the ' +\n",
              "          '<a target=\"_blank\" href=https://colab.research.google.com/notebooks/data_table.ipynb>data table notebook</a>'\n",
              "          + ' to learn more about interactive tables.';\n",
              "        element.innerHTML = '';\n",
              "        dataTable['output_type'] = 'display_data';\n",
              "        await google.colab.output.renderOutput(dataTable, element);\n",
              "        const docLink = document.createElement('div');\n",
              "        docLink.innerHTML = docLinkHtml;\n",
              "        element.appendChild(docLink);\n",
              "      }\n",
              "    </script>\n",
              "  </div>\n",
              "\n",
              "\n",
              "<div id=\"df-02e4737c-e974-4905-9d9f-10aba9288320\">\n",
              "  <button class=\"colab-df-quickchart\" onclick=\"quickchart('df-02e4737c-e974-4905-9d9f-10aba9288320')\"\n",
              "            title=\"Suggest charts.\"\n",
              "            style=\"display:none;\">\n",
              "\n",
              "<svg xmlns=\"http://www.w3.org/2000/svg\" height=\"24px\"viewBox=\"0 0 24 24\"\n",
              "     width=\"24px\">\n",
              "    <g>\n",
              "        <path d=\"M19 3H5c-1.1 0-2 .9-2 2v14c0 1.1.9 2 2 2h14c1.1 0 2-.9 2-2V5c0-1.1-.9-2-2-2zM9 17H7v-7h2v7zm4 0h-2V7h2v10zm4 0h-2v-4h2v4z\"/>\n",
              "    </g>\n",
              "</svg>\n",
              "  </button>\n",
              "\n",
              "<style>\n",
              "  .colab-df-quickchart {\n",
              "      --bg-color: #E8F0FE;\n",
              "      --fill-color: #1967D2;\n",
              "      --hover-bg-color: #E2EBFA;\n",
              "      --hover-fill-color: #174EA6;\n",
              "      --disabled-fill-color: #AAA;\n",
              "      --disabled-bg-color: #DDD;\n",
              "  }\n",
              "\n",
              "  [theme=dark] .colab-df-quickchart {\n",
              "      --bg-color: #3B4455;\n",
              "      --fill-color: #D2E3FC;\n",
              "      --hover-bg-color: #434B5C;\n",
              "      --hover-fill-color: #FFFFFF;\n",
              "      --disabled-bg-color: #3B4455;\n",
              "      --disabled-fill-color: #666;\n",
              "  }\n",
              "\n",
              "  .colab-df-quickchart {\n",
              "    background-color: var(--bg-color);\n",
              "    border: none;\n",
              "    border-radius: 50%;\n",
              "    cursor: pointer;\n",
              "    display: none;\n",
              "    fill: var(--fill-color);\n",
              "    height: 32px;\n",
              "    padding: 0;\n",
              "    width: 32px;\n",
              "  }\n",
              "\n",
              "  .colab-df-quickchart:hover {\n",
              "    background-color: var(--hover-bg-color);\n",
              "    box-shadow: 0 1px 2px rgba(60, 64, 67, 0.3), 0 1px 3px 1px rgba(60, 64, 67, 0.15);\n",
              "    fill: var(--button-hover-fill-color);\n",
              "  }\n",
              "\n",
              "  .colab-df-quickchart-complete:disabled,\n",
              "  .colab-df-quickchart-complete:disabled:hover {\n",
              "    background-color: var(--disabled-bg-color);\n",
              "    fill: var(--disabled-fill-color);\n",
              "    box-shadow: none;\n",
              "  }\n",
              "\n",
              "  .colab-df-spinner {\n",
              "    border: 2px solid var(--fill-color);\n",
              "    border-color: transparent;\n",
              "    border-bottom-color: var(--fill-color);\n",
              "    animation:\n",
              "      spin 1s steps(1) infinite;\n",
              "  }\n",
              "\n",
              "  @keyframes spin {\n",
              "    0% {\n",
              "      border-color: transparent;\n",
              "      border-bottom-color: var(--fill-color);\n",
              "      border-left-color: var(--fill-color);\n",
              "    }\n",
              "    20% {\n",
              "      border-color: transparent;\n",
              "      border-left-color: var(--fill-color);\n",
              "      border-top-color: var(--fill-color);\n",
              "    }\n",
              "    30% {\n",
              "      border-color: transparent;\n",
              "      border-left-color: var(--fill-color);\n",
              "      border-top-color: var(--fill-color);\n",
              "      border-right-color: var(--fill-color);\n",
              "    }\n",
              "    40% {\n",
              "      border-color: transparent;\n",
              "      border-right-color: var(--fill-color);\n",
              "      border-top-color: var(--fill-color);\n",
              "    }\n",
              "    60% {\n",
              "      border-color: transparent;\n",
              "      border-right-color: var(--fill-color);\n",
              "    }\n",
              "    80% {\n",
              "      border-color: transparent;\n",
              "      border-right-color: var(--fill-color);\n",
              "      border-bottom-color: var(--fill-color);\n",
              "    }\n",
              "    90% {\n",
              "      border-color: transparent;\n",
              "      border-bottom-color: var(--fill-color);\n",
              "    }\n",
              "  }\n",
              "</style>\n",
              "\n",
              "  <script>\n",
              "    async function quickchart(key) {\n",
              "      const quickchartButtonEl =\n",
              "        document.querySelector('#' + key + ' button');\n",
              "      quickchartButtonEl.disabled = true;  // To prevent multiple clicks.\n",
              "      quickchartButtonEl.classList.add('colab-df-spinner');\n",
              "      try {\n",
              "        const charts = await google.colab.kernel.invokeFunction(\n",
              "            'suggestCharts', [key], {});\n",
              "      } catch (error) {\n",
              "        console.error('Error during call to suggestCharts:', error);\n",
              "      }\n",
              "      quickchartButtonEl.classList.remove('colab-df-spinner');\n",
              "      quickchartButtonEl.classList.add('colab-df-quickchart-complete');\n",
              "    }\n",
              "    (() => {\n",
              "      let quickchartButtonEl =\n",
              "        document.querySelector('#df-02e4737c-e974-4905-9d9f-10aba9288320 button');\n",
              "      quickchartButtonEl.style.display =\n",
              "        google.colab.kernel.accessAllowed ? 'block' : 'none';\n",
              "    })();\n",
              "  </script>\n",
              "</div>\n",
              "    </div>\n",
              "  </div>\n"
            ],
            "text/plain": [
              "       ProductID;Product Name;Price\n",
              "count                            10\n",
              "unique                           10\n",
              "top               P1;Choco Bar;8800\n",
              "freq                              1"
            ]
          },
          "execution_count": 9,
          "metadata": {},
          "output_type": "execute_result"
        }
      ],
      "source": [
        "dfp.describe()"
      ]
    },
    {
      "cell_type": "code",
      "source": [
        "\n",
        "# Mengubah tipe data kolom 'date' menjadi datetime\n",
        "dft['Date'] = pd.to_datetime(dft['Date'])0\n",
        "\n",
        "# Menampilkan DataFrame setelah mengubah tipe data kolom 'date'\n",
        "print(dft)"
      ],
      "metadata": {
        "colab": {
          "base_uri": "https://localhost:8080/"
        },
        "id": "ka8htcIiD7lw",
        "outputId": "90df47e2-dd7d-482b-8f5d-30708e927ef4"
      },
      "execution_count": 67,
      "outputs": [
        {
          "output_type": "stream",
          "name": "stdout",
          "text": [
            "     TransactionID  CustomerID       Date ProductID  Price  Qty  TotalAmount  \\\n",
            "0          TR11369         328 2022-01-01        P3   7500    4        30000   \n",
            "1          TR16356         165 2022-01-01        P9  10000    7        70000   \n",
            "2           TR1984         183 2022-01-01        P1   8800    4        35200   \n",
            "3          TR35256         160 2022-01-01        P1   8800    7        61600   \n",
            "4          TR41231         386 2022-01-01        P9  10000    1        10000   \n",
            "...            ...         ...        ...       ...    ...  ...          ...   \n",
            "5015       TR54423         243 2022-12-31       P10  15000    5        75000   \n",
            "5016        TR5604         271 2022-12-31        P2   3200    4        12800   \n",
            "5017       TR81224          52 2022-12-31        P7   9400    6        56400   \n",
            "5018       TR85016          18 2022-12-31        P8  16000    3        48000   \n",
            "5019       TR85684          55 2022-12-31        P8  16000    1        16000   \n",
            "\n",
            "      StoreID  \n",
            "0          12  \n",
            "1           1  \n",
            "2           4  \n",
            "3           4  \n",
            "4           4  \n",
            "...       ...  \n",
            "5015        3  \n",
            "5016        9  \n",
            "5017        9  \n",
            "5018       13  \n",
            "5019        6  \n",
            "\n",
            "[5020 rows x 8 columns]\n"
          ]
        },
        {
          "output_type": "stream",
          "name": "stderr",
          "text": [
            "<ipython-input-67-d677f748d0e6>:2: UserWarning: Parsing dates in DD/MM/YYYY format when dayfirst=False (the default) was specified. This may lead to inconsistently parsed dates! Specify a format to ensure consistent parsing.\n",
            "  dft['Date'] = pd.to_datetime(dft['Date'])\n"
          ]
        }
      ]
    },
    {
      "cell_type": "markdown",
      "metadata": {
        "id": "-UBUQwhHoEiT"
      },
      "source": []
    },
    {
      "cell_type": "code",
      "source": [
        "dfc.to_csv('Customer.csv', index=False)\n",
        "dfp.to_csv('Produck.csv', index=False)\n",
        "dfs.to_csv('Store.csv', index=False)\n",
        "dft.to_csv('Transaction.csv', index=False)"
      ],
      "metadata": {
        "id": "zZfSK7YwSenk"
      },
      "execution_count": 79,
      "outputs": []
    },
    {
      "cell_type": "code",
      "source": [
        "dfc.to_csv('Customer.csv', index=False)\n"
      ],
      "metadata": {
        "id": "J0f31eZSTy1a"
      },
      "execution_count": 82,
      "outputs": []
    },
    {
      "cell_type": "code",
      "source": [
        "dfp.to_csv('/content/Case Study - Product', index=False)"
      ],
      "metadata": {
        "id": "4rY0hrvhTBjg"
      },
      "execution_count": 78,
      "outputs": []
    },
    {
      "cell_type": "code",
      "execution_count": 19,
      "metadata": {
        "colab": {
          "base_uri": "https://localhost:8080/"
        },
        "id": "kCMOCofZf51x",
        "outputId": "16f75923-605e-4085-c7cd-77e381cfd764"
      },
      "outputs": [
        {
          "output_type": "stream",
          "name": "stdout",
          "text": [
            "Kolom dengan missing value:\n",
            "['Marital Status']\n"
          ]
        }
      ],
      "source": [
        "# Melihat kolom-kolom yang memiliki missing value (nilai null)\n",
        "kolom_dengan_missing_value = dfc.columns[dfc.isna().any()].tolist()\n",
        "\n",
        "# Menampilkan nama kolom yang memiliki missing value\n",
        "print(\"Kolom dengan missing value:\")\n",
        "print(kolom_dengan_missing_value)"
      ]
    },
    {
      "cell_type": "code",
      "source": [
        "mode_marital_status = dfc['Marital Status'].mode().iloc[0]\n",
        "\n",
        "# Mengganti nilai-nilai yang hilang di kolom 'Marital Status' dengan mode\n",
        "dfc['Marital Status'].fillna(mode_marital_status, inplace=True)\n",
        "\n",
        "# Menampilkan DataFrame setelah mengganti nilai-nilai yang hilang\n",
        "print(dfc)"
      ],
      "metadata": {
        "colab": {
          "base_uri": "https://localhost:8080/"
        },
        "id": "HP4w6BRgFRFR",
        "outputId": "271fcef9-9ab1-4839-c087-02c49b623df7"
      },
      "execution_count": 80,
      "outputs": [
        {
          "output_type": "stream",
          "name": "stdout",
          "text": [
            "     CustomerID  Age  Gender Marital Status Income\n",
            "0             1   55       1        Married   5,12\n",
            "1             2   60       1        Married   6,23\n",
            "2             3   32       1        Married   9,17\n",
            "3             4   31       1        Married   4,87\n",
            "4             5   58       1        Married   3,57\n",
            "..          ...  ...     ...            ...    ...\n",
            "442         443   33       1        Married   9,28\n",
            "443         444   53       0        Married  15,31\n",
            "444         445   51       0        Married  14,48\n",
            "445         446   57       0        Married   7,81\n",
            "446         447   54       1        Married  20,37\n",
            "\n",
            "[447 rows x 5 columns]\n"
          ]
        }
      ]
    },
    {
      "cell_type": "code",
      "source": [
        "# Melihat kolom-kolom yang memiliki missing value (nilai null)\n",
        "kolom_dengan_missing_value = dfp.columns[dfp.isna().any()].tolist()\n",
        "\n",
        "# Menampilkan nama kolom yang memiliki missing value\n",
        "print(\"Kolom dengan missing value:\")\n",
        "print(kolom_dengan_missing_value)"
      ],
      "metadata": {
        "colab": {
          "base_uri": "https://localhost:8080/"
        },
        "id": "fsV6nXPxAasw",
        "outputId": "522e36f8-fd50-4ea9-f2b2-c8a35682194d"
      },
      "execution_count": 85,
      "outputs": [
        {
          "output_type": "stream",
          "name": "stdout",
          "text": [
            "Kolom dengan missing value:\n",
            "[]\n"
          ]
        }
      ]
    },
    {
      "cell_type": "code",
      "source": [],
      "metadata": {
        "colab": {
          "base_uri": "https://localhost:8080/"
        },
        "id": "sSrbOoJCtgNS",
        "outputId": "2095683a-57b5-43e8-8c95-7dad08e83e4b"
      },
      "execution_count": 84,
      "outputs": [
        {
          "output_type": "stream",
          "name": "stdout",
          "text": [
            "  ProductID   Product Name  Price\n",
            "0        P1      Choco Bar   8800\n",
            "1        P2  Ginger Candy    3200\n",
            "2        P3       Crackers   7500\n",
            "3        P4    Potato Chip  12000\n",
            "4        P5       Thai Tea   4200\n",
            "5        P6         Cashew  18000\n",
            "6        P7   Coffee Candy   9400\n",
            "7        P8            Oat  16000\n",
            "8        P9        Yoghurt  10000\n",
            "9       P10   Cheese Stick  15000\n"
          ]
        }
      ]
    },
    {
      "cell_type": "code",
      "execution_count": 31,
      "metadata": {
        "colab": {
          "base_uri": "https://localhost:8080/"
        },
        "id": "Rjd4b8FOpSdt",
        "outputId": "9b606965-77e2-4237-b792-d287fd24505c"
      },
      "outputs": [
        {
          "output_type": "stream",
          "name": "stdout",
          "text": [
            "CustomerID        0\n",
            "Age               0\n",
            "Gender            0\n",
            "Marital Status    0\n",
            "Income            0\n",
            "dtype: int64\n",
            "StoreID       0\n",
            "StoreName     0\n",
            "GroupStore    0\n",
            "Type          0\n",
            "Latitude      0\n",
            "Longitude     0\n",
            "dtype: int64\n",
            "TransactionID    0\n",
            "CustomerID       0\n",
            "Date             0\n",
            "ProductID        0\n",
            "Price            0\n",
            "Qty              0\n",
            "TotalAmount      0\n",
            "StoreID          0\n",
            "dtype: int64\n",
            "TransactionID    0\n",
            "CustomerID       0\n",
            "Date             0\n",
            "ProductID        0\n",
            "Price            0\n",
            "Qty              0\n",
            "TotalAmount      0\n",
            "StoreID          0\n",
            "dtype: int64\n"
          ]
        }
      ],
      "source": [
        "null_count_dfc = dfc.isnull().sum()\n",
        "print(null_count_dfc)\n",
        "\n",
        "null_count_dfs = dfs.isnull().sum()\n",
        "print(null_count_dfs)\n",
        "\n",
        "null_count_dfp = dfp.isnull().sum()\n",
        "print(null_count_dfp)\n",
        "\n",
        "null_count_dft = dft.isnull().sum()\n",
        "print(null_count_dft)"
      ]
    },
    {
      "cell_type": "code",
      "execution_count": 5,
      "metadata": {
        "colab": {
          "base_uri": "https://localhost:8080/"
        },
        "id": "XiClBkxC6c8Q",
        "outputId": "7814af30-9ec4-4989-83e6-d3c7255b8503"
      },
      "outputs": [
        {
          "output_type": "stream",
          "name": "stdout",
          "text": [
            "<class 'pandas.core.frame.DataFrame'>\n",
            "RangeIndex: 447 entries, 0 to 446\n",
            "Data columns (total 5 columns):\n",
            " #   Column          Non-Null Count  Dtype \n",
            "---  ------          --------------  ----- \n",
            " 0   CustomerID      447 non-null    int64 \n",
            " 1   Age             447 non-null    int64 \n",
            " 2   Gender          447 non-null    int64 \n",
            " 3   Marital Status  444 non-null    object\n",
            " 4   Income          447 non-null    object\n",
            "dtypes: int64(3), object(2)\n",
            "memory usage: 17.6+ KB\n"
          ]
        }
      ],
      "source": [
        "dfc.info()"
      ]
    },
    {
      "cell_type": "code",
      "source": [
        "import pandas as pd\n",
        "import numpy as np\n",
        "import matplotlib.pyplot as plt\n",
        "from statsmodels.tsa.arima.model import ARIMA\n",
        "\n",
        "\n",
        "# Menggabungkan DataFrame dfp dan dft berdasarkan 'ProductID'\n",
        "merged_data = dfp.merge(dft, on='ProductID')\n",
        "\n",
        "# Mengagregasi data dengan mengelompokkan berdasarkan tanggal dan menjumlahkan kuantitas produk\n",
        "daily_qty = merged_data.groupby('Date')['Qty'].sum()\n",
        "\n",
        "# Membuat time series data yang memuat total kuantitas harian\n",
        "ts_data = daily_qty.resample('D').sum()\n",
        "\n",
        "# Mengisi nilai-nilai yang hilang dengan 0 jika diperlukan\n",
        "ts_data = ts_data.fillna(0)\n",
        "\n",
        "# Memisahkan data menjadi data pelatihan dan data uji\n",
        "train_data = ts_data.iloc[:-7]  # Menggunakan data historis untuk pelatihan\n",
        "test_data = ts_data.iloc[-7:]   # Menggunakan data terakhir sebagai data uji\n",
        "\n",
        "# Memodelkan data dengan ARIMA\n",
        "model = ARIMA(train_data, order=(1, 1, 1))\n",
        "model_fit = model.fit()\n",
        "\n",
        "# Membuat prediksi untuk 7 hari ke depan\n",
        "forecast_steps = 7\n",
        "forecast = model_fit.forecast(steps=forecast_steps)\n",
        "\n",
        "# Menampilkan hasil prediksi\n",
        "print(\"Prediksi 7 Hari ke Depan:\")\n",
        "print(forecast)\n",
        "\n",
        "# Plot hasil prediksi\n",
        "plt.figure(figsize=(12, 6))\n",
        "plt.plot(train_data.index, train_data.values, label='Data Pelatihan')\n",
        "plt.plot(test_data.index, test_data.values, label='Data Uji')\n",
        "plt.plot(test_data.index, forecast, label='Prediksi')\n",
        "plt.title('Prediksi Total Kuantitas Harian Produk yang Terjual')\n",
        "plt.xlabel('Tanggal')\n",
        "plt.ylabel('Total Kuantitas')\n",
        "plt.legend()\n",
        "plt.grid(True)\n",
        "plt.show()"
      ],
      "metadata": {
        "colab": {
          "base_uri": "https://localhost:8080/",
          "height": 720
        },
        "id": "qHMLu8YSIEeI",
        "outputId": "41458ef0-c49c-4b2f-bf07-d47485ef5781"
      },
      "execution_count": 69,
      "outputs": [
        {
          "output_type": "stream",
          "name": "stdout",
          "text": [
            "Prediksi 7 Hari ke Depan:\n",
            "2022-12-25    46.919296\n",
            "2022-12-26    47.453362\n",
            "2022-12-27    47.442830\n",
            "2022-12-28    47.443038\n",
            "2022-12-29    47.443034\n",
            "2022-12-30    47.443034\n",
            "2022-12-31    47.443034\n",
            "Freq: D, Name: predicted_mean, dtype: float64\n"
          ]
        },
        {
          "output_type": "display_data",
          "data": {
            "text/plain": [
              "<Figure size 1200x600 with 1 Axes>"
            ],
            "image/png": "[encoded data removed]"
          },
          "metadata": {}
        }
      ]
    },
    {
      "cell_type": "code",
      "source": [
        "from sklearn.cluster import KMeans\n",
        "merged_data = pd.merge(dfc[['CustomerID', 'Marital Status']], dft[['CustomerID', 'TransactionID', 'Qty', 'TotalAmount']], on='CustomerID')\n",
        "\n",
        "# Melakukan agregasi\n",
        "agg_data = merged_data.groupby('CustomerID').agg({\n",
        "    'TransactionID': 'count',\n",
        "    'Qty': 'sum',\n",
        "    'TotalAmount': 'sum'\n",
        "}).reset_index()\n",
        "\n",
        "\n",
        "kmeans = KMeans(n_clusters=3)\n",
        "agg_data['Cluster'] = kmeans.fit_predict(agg_data[['TransactionID', 'Qty', 'TotalAmount']])\n",
        "\n",
        "# Menampilkan hasil clustering\n",
        "print(agg_data)\n",
        "\n",
        "\n",
        "\n",
        "\n",
        "\n",
        "\n"
      ],
      "metadata": {
        "colab": {
          "base_uri": "https://localhost:8080/"
        },
        "id": "iN-F-egJJYsq",
        "outputId": "2ecec1c3-0687-45b2-e7eb-06d3346e571f"
      },
      "execution_count": 73,
      "outputs": [
        {
          "output_type": "stream",
          "name": "stdout",
          "text": [
            "     CustomerID  TransactionID  Qty  TotalAmount  Cluster\n",
            "0             1             17   60       623300        1\n",
            "1             2             13   57       392300        2\n",
            "2             3             15   56       446200        2\n",
            "3             4             10   46       302500        0\n",
            "4             5              7   27       268600        0\n",
            "..          ...            ...  ...          ...      ...\n",
            "442         443             16   59       485100        1\n",
            "443         444             18   62       577700        1\n",
            "444         445             18   68       587200        1\n",
            "445         446             11   42       423300        2\n",
            "446         447             13   42       439300        2\n",
            "\n",
            "[447 rows x 5 columns]\n"
          ]
        },
        {
          "output_type": "stream",
          "name": "stderr",
          "text": [
            "/usr/local/lib/python3.10/dist-packages/sklearn/cluster/_kmeans.py:870: FutureWarning: The default value of `n_init` will change from 10 to 'auto' in 1.4. Set the value of `n_init` explicitly to suppress the warning\n",
            "  warnings.warn(\n"
          ]
        }
      ]
    },
    {
      "cell_type": "code",
      "source": [],
      "metadata": {
        "id": "XCU3ofulSYbf"
      },
      "execution_count": null,
      "outputs": []
    }
  ],
  "metadata": {
    "colab": {
      "provenance": []
    },
    "kernelspec": {
      "display_name": "Python 3",
      "name": "python3"
    },
    "language_info": {
      "name": "python"
    }
  },
  "nbformat": 4,
  "nbformat_minor": 0
}